{
 "cells": [
  {
   "metadata": {},
   "cell_type": "markdown",
   "source": [
    "# Assignment 1: Travelling Salesman Problem\n",
    "## (A) Core Implementation \n",
    "\n",
    "Implement a genetic algorithm with:\n",
    "\n",
    "- Population initialisation\n",
    "- Selection mechanism\n",
    "- At least two different crossover operators\n",
    "- At least two different mutation operators\n",
    "- Fitness evaluation"
   ],
   "id": "d6e3bf2ea727f357"
  },
  {
   "metadata": {
    "ExecuteTime": {
     "end_time": "2025-02-12T11:32:58.992514Z",
     "start_time": "2025-02-12T11:32:58.985056Z"
    }
   },
   "cell_type": "code",
   "source": [
    "import random\n",
    "import numpy as np\n"
   ],
   "id": "3c35bf893c2b03",
   "outputs": [],
   "execution_count": 3
  },
  {
   "metadata": {
    "ExecuteTime": {
     "end_time": "2025-02-12T11:32:59.028072Z",
     "start_time": "2025-02-12T11:32:59.024184Z"
    }
   },
   "cell_type": "code",
   "source": [
    "# Constants\n",
    "POPULATION_SIZE = 500\n",
    "GENOME_SIZE = 52  # Number of cities\n",
    "MUTATION_RATE = 0.05\n",
    "CROSSOVER_RATE = 0.84\n",
    "GENERATIONS = 100\n"
   ],
   "id": "39e4645d009e0fbc",
   "outputs": [],
   "execution_count": 4
  },
  {
   "metadata": {
    "ExecuteTime": {
     "end_time": "2025-02-12T11:37:56.760178Z",
     "start_time": "2025-02-12T11:37:56.744945Z"
    }
   },
   "cell_type": "code",
   "source": [
    "def load_distance_matrix(file_path):\n",
    "    with open(file_path, 'r') as f:\n",
    "        lines = f.readlines()\n",
    "    \n",
    "    # Skip header lines until NODE_COORD_SECTION\n",
    "    start_index = lines.index('NODE_COORD_SECTION\\n') + 1\n",
    "    coordinates = []\n",
    "    \n",
    "    for line in lines[start_index:]:\n",
    "        if line.strip() == 'EOF':\n",
    "            break\n",
    "        parts = line.strip().split()\n",
    "        coordinates.append((float(parts[1]), float(parts[2])))\n",
    "    \n",
    "    # Calculate distance matrix\n",
    "    num_cities = len(coordinates)\n",
    "    matrix = np.zeros((num_cities, num_cities))\n",
    "    \n",
    "    for i in range(num_cities):\n",
    "        for j in range(num_cities):\n",
    "            if i != j:\n",
    "                dist = np.sqrt((coordinates[i][0] - coordinates[j][0])**2 + (coordinates[i][1] - coordinates[j][1])**2)\n",
    "                matrix[i][j] = dist\n",
    "    \n",
    "    return matrix"
   ],
   "id": "b0ca18b2480a15fa",
   "outputs": [],
   "execution_count": 14
  },
  {
   "metadata": {},
   "cell_type": "markdown",
   "source": "### Population initialisation",
   "id": "56d93fb7d481bbb1"
  },
  {
   "cell_type": "code",
   "id": "initial_id",
   "metadata": {
    "collapsed": true,
    "ExecuteTime": {
     "end_time": "2025-02-12T11:32:59.079386Z",
     "start_time": "2025-02-12T11:32:59.075597Z"
    }
   },
   "source": [
    "# Initialize population with random permutations of cities\n",
    "def init_population(population_size, genome_size):\n",
    "    population = []\n",
    "    for _ in range(population_size):\n",
    "        genome = list(range(genome_size))\n",
    "        random.shuffle(genome)\n",
    "        population.append(genome)\n",
    "    return population\n"
   ],
   "outputs": [],
   "execution_count": 6
  },
  {
   "metadata": {},
   "cell_type": "markdown",
   "source": "### Selection mechanism",
   "id": "531e05ae272984a9"
  },
  {
   "metadata": {
    "ExecuteTime": {
     "end_time": "2025-02-12T11:32:59.092671Z",
     "start_time": "2025-02-12T11:32:59.089400Z"
    }
   },
   "cell_type": "code",
   "source": [
    "# Fitness function: total distance of the tour\n",
    "def fitness(genome, distance_matrix):\n",
    "    total_distance = 0\n",
    "    for i in range(len(genome)):\n",
    "        total_distance += distance_matrix[genome[i-1]][genome[i]]\n",
    "    return -total_distance  # Negative because we want to minimize distance"
   ],
   "id": "71744b5584471ed1",
   "outputs": [],
   "execution_count": 7
  },
  {
   "metadata": {
    "ExecuteTime": {
     "end_time": "2025-02-12T11:32:59.103477Z",
     "start_time": "2025-02-12T11:32:59.099973Z"
    }
   },
   "cell_type": "code",
   "source": [
    "\n",
    "# Selection mechanism: roulette wheel selection\n",
    "def select_parent(population, fitnesses):\n",
    "    total_fitness = sum(fitnesses)\n",
    "    pick = random.uniform(0, total_fitness)\n",
    "    current = 0\n",
    "    for individual, fitness in zip(population, fitnesses):\n",
    "        current += fitness\n",
    "        if current > pick:\n",
    "            return individual\n"
   ],
   "id": "95437bc85d8f0ef2",
   "outputs": [],
   "execution_count": 8
  },
  {
   "metadata": {},
   "cell_type": "markdown",
   "source": "",
   "id": "5c33b2299dace509"
  },
  {
   "metadata": {
    "ExecuteTime": {
     "end_time": "2025-02-12T11:32:59.122042Z",
     "start_time": "2025-02-12T11:32:59.113289Z"
    }
   },
   "cell_type": "code",
   "source": [
    "# Selection mechanism: roulette wheel selection\n",
    "def select_parent(population, fitnesses):\n",
    "    total_fitness = sum(fitnesses)\n",
    "    pick = random.uniform(0, total_fitness)\n",
    "    current = 0\n",
    "    for individual, fitness in zip(population, fitnesses):\n",
    "        current += fitness\n",
    "        if current > pick:\n",
    "            return individual"
   ],
   "id": "d3fde2e5b588e12",
   "outputs": [],
   "execution_count": 9
  },
  {
   "metadata": {},
   "cell_type": "markdown",
   "source": "### Crossover",
   "id": "4c10bef1e1a342df"
  },
  {
   "metadata": {
    "ExecuteTime": {
     "end_time": "2025-02-12T11:32:59.148406Z",
     "start_time": "2025-02-12T11:32:59.142773Z"
    }
   },
   "cell_type": "code",
   "source": [
    "\n",
    "# Order Crossover (OX)\n",
    "def crossover(parent1, parent2):\n",
    "    if random.random() < CROSSOVER_RATE:\n",
    "        start, end = sorted(random.sample(range(len(parent1)), 2))\n",
    "        child1 = [None] * len(parent1)\n",
    "        child1[start:end] = parent1[start:end]\n",
    "        child2 = [None] * len(parent2)\n",
    "        child2[start:end] = parent2[start:end]\n",
    "\n",
    "        fill_child(child1, parent2, end)\n",
    "        fill_child(child2, parent1, end)\n",
    "\n",
    "        return child1, child2\n",
    "    else:\n",
    "        return parent1, parent2\n",
    "\n",
    "def fill_child(child, parent, end):\n",
    "    current_pos = end\n",
    "    for gene in parent:\n",
    "        if gene not in child:\n",
    "            if current_pos >= len(child):\n",
    "                current_pos = 0\n",
    "            child[current_pos] = gene\n",
    "            current_pos += 1\n",
    "\n",
    "# Swap mutation\n",
    "def mutate(genome):\n",
    "    for i in range(len(genome)):\n",
    "        if random.random() < MUTATION_RATE:\n",
    "            j = random.randint(0, len(genome) - 1)\n",
    "            genome[i], genome[j] = genome[j], genome[i]\n",
    "    return genome\n"
   ],
   "id": "b7865713540f845c",
   "outputs": [],
   "execution_count": 10
  },
  {
   "metadata": {},
   "cell_type": "markdown",
   "source": "### Fitness evaluation ",
   "id": "d57f7563b809e4da"
  },
  {
   "metadata": {
    "ExecuteTime": {
     "end_time": "2025-02-12T11:32:59.167356Z",
     "start_time": "2025-02-12T11:32:59.162372Z"
    }
   },
   "cell_type": "code",
   "source": [
    "\n",
    "# Genetic algorithm\n",
    "def genetic_algorithm(distance_matrix):\n",
    "    population = init_population(POPULATION_SIZE, GENOME_SIZE)\n",
    "\n",
    "    for generation in range(GENERATIONS):\n",
    "        fitness_values = [fitness(genome, distance_matrix) for genome in population]\n",
    "\n",
    "        new_population = []\n",
    "        for _ in range(POPULATION_SIZE // 2):\n",
    "            parent1 = select_parent(population, fitness_values)\n",
    "            parent2 = select_parent(population, fitness_values)\n",
    "            offspring1, offspring2 = crossover(parent1, parent2)\n",
    "            new_population.extend([mutate(offspring1), mutate(offspring2)])\n",
    "\n",
    "        population = new_population\n",
    "\n",
    "        fitness_values = [fitness(genome, distance_matrix) for genome in population]\n",
    "        best_fitness = max(fitness_values)\n",
    "        print(f\"Generation {generation}: Best Fitness = {-best_fitness}\")\n",
    "\n",
    "    best_index = fitness_values.index(max(fitness_values))\n",
    "    best_solution = population[best_index]\n",
    "    print(f'Best Solution: {best_solution}')\n",
    "    print(f'Best Fitness: {-fitness(best_solution, distance_matrix)}')\n"
   ],
   "id": "b2f147ecfb2cafc",
   "outputs": [],
   "execution_count": 11
  },
  {
   "metadata": {
    "ExecuteTime": {
     "end_time": "2025-02-12T11:38:00.145608Z",
     "start_time": "2025-02-12T11:38:00.047336Z"
    }
   },
   "cell_type": "code",
   "source": [
    "distance_matrix = load_distance_matrix('berlin52.txt')\n",
    "genetic_algorithm(distance_matrix)\n"
   ],
   "id": "b0ea0c3d7c8f65c2",
   "outputs": [
    {
     "name": "stdout",
     "output_type": "stream",
     "text": [
      "Generation 0: Best Fitness = 24703.504384172356\n"
     ]
    },
    {
     "ename": "TypeError",
     "evalue": "object of type 'NoneType' has no len()",
     "output_type": "error",
     "traceback": [
      "\u001B[0;31m---------------------------------------------------------------------------\u001B[0m",
      "\u001B[0;31mTypeError\u001B[0m                                 Traceback (most recent call last)",
      "Cell \u001B[0;32mIn[15], line 2\u001B[0m\n\u001B[1;32m      1\u001B[0m distance_matrix \u001B[38;5;241m=\u001B[39m load_distance_matrix(\u001B[38;5;124m'\u001B[39m\u001B[38;5;124mberlin52.txt\u001B[39m\u001B[38;5;124m'\u001B[39m)\n\u001B[0;32m----> 2\u001B[0m \u001B[43mgenetic_algorithm\u001B[49m\u001B[43m(\u001B[49m\u001B[43mdistance_matrix\u001B[49m\u001B[43m)\u001B[49m\n",
      "Cell \u001B[0;32mIn[11], line 12\u001B[0m, in \u001B[0;36mgenetic_algorithm\u001B[0;34m(distance_matrix)\u001B[0m\n\u001B[1;32m     10\u001B[0m     parent1 \u001B[38;5;241m=\u001B[39m select_parent(population, fitness_values)\n\u001B[1;32m     11\u001B[0m     parent2 \u001B[38;5;241m=\u001B[39m select_parent(population, fitness_values)\n\u001B[0;32m---> 12\u001B[0m     offspring1, offspring2 \u001B[38;5;241m=\u001B[39m \u001B[43mcrossover\u001B[49m\u001B[43m(\u001B[49m\u001B[43mparent1\u001B[49m\u001B[43m,\u001B[49m\u001B[43m \u001B[49m\u001B[43mparent2\u001B[49m\u001B[43m)\u001B[49m\n\u001B[1;32m     13\u001B[0m     new_population\u001B[38;5;241m.\u001B[39mextend([mutate(offspring1), mutate(offspring2)])\n\u001B[1;32m     15\u001B[0m population \u001B[38;5;241m=\u001B[39m new_population\n",
      "Cell \u001B[0;32mIn[10], line 4\u001B[0m, in \u001B[0;36mcrossover\u001B[0;34m(parent1, parent2)\u001B[0m\n\u001B[1;32m      2\u001B[0m \u001B[38;5;28;01mdef\u001B[39;00m\u001B[38;5;250m \u001B[39m\u001B[38;5;21mcrossover\u001B[39m(parent1, parent2):\n\u001B[1;32m      3\u001B[0m     \u001B[38;5;28;01mif\u001B[39;00m random\u001B[38;5;241m.\u001B[39mrandom() \u001B[38;5;241m<\u001B[39m CROSSOVER_RATE:\n\u001B[0;32m----> 4\u001B[0m         start, end \u001B[38;5;241m=\u001B[39m \u001B[38;5;28msorted\u001B[39m(random\u001B[38;5;241m.\u001B[39msample(\u001B[38;5;28mrange\u001B[39m(\u001B[38;5;28;43mlen\u001B[39;49m\u001B[43m(\u001B[49m\u001B[43mparent1\u001B[49m\u001B[43m)\u001B[49m), \u001B[38;5;241m2\u001B[39m))\n\u001B[1;32m      5\u001B[0m         child1 \u001B[38;5;241m=\u001B[39m [\u001B[38;5;28;01mNone\u001B[39;00m] \u001B[38;5;241m*\u001B[39m \u001B[38;5;28mlen\u001B[39m(parent1)\n\u001B[1;32m      6\u001B[0m         child1[start:end] \u001B[38;5;241m=\u001B[39m parent1[start:end]\n",
      "\u001B[0;31mTypeError\u001B[0m: object of type 'NoneType' has no len()"
     ]
    }
   ],
   "execution_count": 15
  }
 ],
 "metadata": {
  "kernelspec": {
   "display_name": "Python 3",
   "language": "python",
   "name": "python3"
  },
  "language_info": {
   "codemirror_mode": {
    "name": "ipython",
    "version": 2
   },
   "file_extension": ".py",
   "mimetype": "text/x-python",
   "name": "python",
   "nbconvert_exporter": "python",
   "pygments_lexer": "ipython2",
   "version": "2.7.6"
  }
 },
 "nbformat": 4,
 "nbformat_minor": 5
}
