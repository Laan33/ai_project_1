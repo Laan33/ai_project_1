{
 "cells": [
  {
   "metadata": {},
   "cell_type": "markdown",
   "source": [
    "# Assignment 1: Travelling Salesman Problem\n",
    "## (A) Core Implementation \n",
    "\n",
    "Implement a genetic algorithm with:\n",
    "\n",
    "- Population initialisation\n",
    "- Selection mechanism\n",
    "- At least two different crossover operators\n",
    "- At least two different mutation operators\n",
    "- Fitness evaluation"
   ],
   "id": "d6e3bf2ea727f357"
  },
  {
   "metadata": {},
   "cell_type": "code",
   "outputs": [],
   "execution_count": null,
   "source": "# Read in Data_Sets_TSP.txt",
   "id": "3c35bf893c2b03"
  },
  {
   "metadata": {},
   "cell_type": "markdown",
   "source": "### Population initialisation",
   "id": "56d93fb7d481bbb1"
  },
  {
   "cell_type": "code",
   "execution_count": null,
   "id": "initial_id",
   "metadata": {
    "collapsed": true
   },
   "outputs": [],
   "source": [
    ""
   ]
  },
  {
   "metadata": {},
   "cell_type": "markdown",
   "source": "### Selection mechanism",
   "id": "531e05ae272984a9"
  },
  {
   "metadata": {},
   "cell_type": "code",
   "outputs": [],
   "execution_count": null,
   "source": "",
   "id": "95437bc85d8f0ef2"
  },
  {
   "metadata": {},
   "cell_type": "markdown",
   "source": "",
   "id": "5c33b2299dace509"
  },
  {
   "metadata": {},
   "cell_type": "markdown",
   "source": "### Fitness evaluation ",
   "id": "d57f7563b809e4da"
  },
  {
   "metadata": {},
   "cell_type": "code",
   "outputs": [],
   "execution_count": null,
   "source": "",
   "id": "b2f147ecfb2cafc"
  }
 ],
 "metadata": {
  "kernelspec": {
   "display_name": "Python 3",
   "language": "python",
   "name": "python3"
  },
  "language_info": {
   "codemirror_mode": {
    "name": "ipython",
    "version": 2
   },
   "file_extension": ".py",
   "mimetype": "text/x-python",
   "name": "python",
   "nbconvert_exporter": "python",
   "pygments_lexer": "ipython2",
   "version": "2.7.6"
  }
 },
 "nbformat": 4,
 "nbformat_minor": 5
}
